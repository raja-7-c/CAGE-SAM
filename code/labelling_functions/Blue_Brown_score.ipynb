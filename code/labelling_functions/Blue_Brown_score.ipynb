{
  "nbformat": 4,
  "nbformat_minor": 0,
  "metadata": {
    "colab": {
      "provenance": []
    },
    "kernelspec": {
      "name": "python3",
      "display_name": "Python 3"
    },
    "language_info": {
      "name": "python"
    }
  },
  "cells": [
    {
      "cell_type": "code",
      "source": [
        "import os\n",
        "import numpy as np\n",
        "from skimage import io, color\n",
        "\n",
        "def calculate_brown_score(image):\n",
        "\n",
        "    # Resize the image to 30x30\n",
        "    resized_image = cv2.resize(image, (30, 30))\n",
        "    # Extract the red channel\n",
        "    red_channel = resized_image[:, :, 0]\n",
        "\n",
        "    # Calculate the brown score as the mean intensity of the red channel\n",
        "    brown_score = np.mean(red_channel)\n",
        "\n",
        "    return brown_score\n",
        "\n",
        "def calculate_blue_score(image):\n",
        "    # Extract the blue channel\n",
        "    # Resize the image to 30x30\n",
        "    resized_image = cv2.resize(image, (30, 30))\n",
        "    # Extract the red channel\n",
        "    blue_channel = resized_image[:, :, 2]\n",
        "\n",
        "    # Calculate the blue score as the mean intensity of the blue channel\n",
        "    blue_score = np.mean(blue_channel)\n",
        "\n",
        "    return blue_score\n",
        "\n",
        "\n",
        "# Specify the path to the folder containing images\n",
        "folder_path = '/content/drive/MyDrive/sam/Train1/test-output'\n",
        "\n",
        "# Define the number of images to process\n",
        "num_images = 30\n",
        "\n",
        "# Initialize a counter\n",
        "count = 0\n",
        "\n",
        "# Iterate through all image files in the folder\n",
        "for filename in os.listdir(folder_path):\n",
        "    if filename.endswith('.jpg') or filename.endswith('.png'):\n",
        "        # Read the image\n",
        "        image_path = os.path.join(folder_path, filename)\n",
        "        image = io.imread(image_path)\n",
        "\n",
        "        # Calculate the brown score\n",
        "        brown_score = calculate_brown_score(image)\n",
        "\n",
        "        # Calculate the blue score\n",
        "        blue_score = calculate_blue_score(image)\n",
        "\n",
        "        # Normalize the scores to the range of 0-1\n",
        "        brown_score_normalized = brown_score \n",
        "        blue_score_normalized = blue_score \n",
        "\n",
        "        # Print the scores and image name\n",
        "        print(f\"Image: {filename}\")\n",
        "        print(f\"Normalized Brown Score: {brown_score_normalized}\")\n",
        "        print(f\"Normalized Blue Score: {blue_score_normalized}\")\n",
        "        print('---')\n",
        "\n",
        "        \"\"\"\n",
        "        # Increment the counter\n",
        "        count += 1\n",
        "\n",
        "        # Check if the desired number of images has been processed\n",
        "        if count == num_images:\n",
        "            break\n",
        "            \"\"\"\n",
        "\n"
      ],
      "metadata": {
        "id": "2qphmP4PnD9n"
      },
      "execution_count": null,
      "outputs": []
    },
    {
      "cell_type": "markdown",
      "source": [
        "Based on RGB only"
      ],
      "metadata": {
        "id": "Ifo9_1ATu-NM"
      }
    },
    {
      "cell_type": "code",
      "source": [
        "import os\n",
        "import numpy as np\n",
        "from skimage import io\n",
        "import matplotlib.pyplot as plt\n",
        "\n",
        "import cv2\n",
        "\n",
        "def calculate_brown_score(image):\n",
        "\n",
        "    # Resize the image to 30x30\n",
        "    resized_image = cv2.resize(image, (30, 30))\n",
        "    # Extract the red channel\n",
        "    red_channel = resized_image[:, :, 0]\n",
        "\n",
        "    # Calculate the brown score as the mean intensity of the red channel\n",
        "    brown_score = np.mean(red_channel)\n",
        "\n",
        "    return brown_score\n",
        "\n",
        "def calculate_blue_score(image):\n",
        "    # Extract the blue channel\n",
        "    # Resize the image to 30x30\n",
        "    resized_image = cv2.resize(image, (30, 30))\n",
        "    # Extract the red channel\n",
        "    blue_channel = resized_image[:, :, 2]\n",
        "\n",
        "    # Calculate the blue score as the mean intensity of the blue channel\n",
        "    blue_score = np.mean(blue_channel)\n",
        "\n",
        "    return blue_score\n",
        "# Specify the path to the folder containing images\n",
        "folder_path = '/content/drive/MyDrive/sam/Train2/Lymphocytes'\n",
        "\n",
        "# Lists to store brown and blue scores\n",
        "brown_scores = []\n",
        "blue_scores = []\n",
        "\n",
        "# Iterate through all image files in the folder\n",
        "for filename in os.listdir(folder_path):\n",
        "    if filename.endswith('.jpg') or filename.endswith('.png'):\n",
        "        # Read the image\n",
        "        image_path = os.path.join(folder_path, filename)\n",
        "        image = io.imread(image_path)\n",
        "\n",
        "        # Calculate the brown score\n",
        "        brown_score = calculate_brown_score(image)\n",
        "\n",
        "        # Calculate the blue score\n",
        "        blue_score = calculate_blue_score(image)\n",
        "\n",
        "        # Append the scores to the respective lists\n",
        "        brown_scores.append(brown_score)\n",
        "        blue_scores.append(blue_score)\n",
        "\n",
        "# Convert the lists to numpy arrays\n",
        "brown_scores = np.array(brown_scores)\n",
        "blue_scores = np.array(blue_scores)\n",
        "\n",
        "# Normalize the scores between 0 and 1\n",
        "brown_scores_normalized = (brown_scores - np.min(brown_scores)) / (np.max(brown_scores) - np.min(brown_scores))\n",
        "blue_scores_normalized = (blue_scores - np.min(blue_scores)) / (np.max(blue_scores) - np.min(blue_scores))\n",
        "\n",
        "\n",
        "# Plot histograms\n",
        "plt.figure(figsize=(10, 4))\n",
        "\n",
        "plt.subplot(1, 2, 1)\n",
        "plt.hist(brown_scores, bins=20, color='brown')\n",
        "plt.title('Brown Score-LYMPHOCYTE-RGB')\n",
        "plt.xlabel('Score')\n",
        "plt.ylabel('Frequency')\n",
        "\n",
        "plt.subplot(1, 2, 2)\n",
        "plt.hist(blue_scores, bins=20, color='blue')\n",
        "plt.title('Blue Score-LYMPHOCYTE-RGB')\n",
        "plt.xlabel('Score')\n",
        "plt.ylabel('Frequency')\n",
        "\n",
        "plt.tight_layout()\n",
        "plt.show()\n"
      ],
      "metadata": {
        "colab": {
          "base_uri": "https://localhost:8080/",
          "height": 407
        },
        "id": "a1hVuRVpuYar",
        "outputId": "7b5143b9-157a-4349-aa5c-af557a3ff553"
      },
      "execution_count": 67,
      "outputs": [
        {
          "output_type": "display_data",
          "data": {
            "text/plain": [
              "<Figure size 1000x400 with 2 Axes>"
            ],
            "image/png": "[encoded data removed]"
          },
          "metadata": {}
        }
      ]
    },
    {
      "cell_type": "code",
      "source": [
        "import numpy as np\n",
        "\n",
        "\n",
        "\n",
        "min_score = np.min(brown_scores)\n",
        "max_score = np.max(brown_scores)\n",
        "\n",
        "print(\"Minimum brown score:\", min_score)\n",
        "print(\"Maximum brown score:\", max_score)\n"
      ],
      "metadata": {
        "colab": {
          "base_uri": "https://localhost:8080/"
        },
        "id": "KaePc_MY-kWt",
        "outputId": "c6c8437a-e10a-4daa-ddee-f988762cfe20"
      },
      "execution_count": 68,
      "outputs": [
        {
          "output_type": "stream",
          "name": "stdout",
          "text": [
            "Minimum brown score: 28.213333333333335\n",
            "Maximum brown score: 118.20333333333333\n"
          ]
        }
      ]
    },
    {
      "cell_type": "code",
      "source": [
        "import numpy as np\n",
        "\n",
        "\n",
        "\n",
        "min_score = np.min(blue_scores)\n",
        "max_score = np.max(blue_scores)\n",
        "\n",
        "print(\"Minimum blue score:\", min_score)\n",
        "print(\"Maximum blue score:\", max_score)\n"
      ],
      "metadata": {
        "colab": {
          "base_uri": "https://localhost:8080/"
        },
        "id": "5-x00wEbAFZQ",
        "outputId": "b81705fc-fd83-421b-fe58-86e588156e80"
      },
      "execution_count": 45,
      "outputs": [
        {
          "output_type": "stream",
          "name": "stdout",
          "text": [
            "Minimum blue score: 37.48111111111111\n",
            "Maximum blue score: 90.48666666666666\n"
          ]
        }
      ]
    },
    {
      "cell_type": "code",
      "source": [
        "import os\n",
        "import numpy as np\n",
        "from skimage import io\n",
        "import matplotlib.pyplot as plt\n",
        "import cv2\n",
        "\n",
        "def calculate_brown_score(image):\n",
        "\n",
        "    # Resize the image to 30x30\n",
        "    resized_image = cv2.resize(image, (30, 30))\n",
        "    # Extract the red channel\n",
        "    red_channel = resized_image[:, :, 0]\n",
        "\n",
        "    # Calculate the brown score as the mean intensity of the red channel\n",
        "    brown_score = np.mean(red_channel)\n",
        "\n",
        "    return brown_score\n",
        "\n",
        "def calculate_blue_score(image):\n",
        "    # Extract the blue channel\n",
        "    # Resize the image to 30x30\n",
        "    resized_image = cv2.resize(image, (30, 30))\n",
        "    # Extract the red channel\n",
        "    blue_channel = resized_image[:, :, 2]\n",
        "\n",
        "    # Calculate the blue score as the mean intensity of the blue channel\n",
        "    blue_score = np.mean(blue_channel)\n",
        "\n",
        "    return blue_score\n",
        "\n",
        "# Specify the path to the folder containing images\n",
        "folder_path = '/content/drive/MyDrive/sam/Train2/Non-Lymphocytes'\n",
        "\n",
        "# Lists to store brown and blue scores\n",
        "brown_scores = []\n",
        "blue_scores = []\n",
        "\n",
        "# Iterate through all image files in the folder\n",
        "for filename in os.listdir(folder_path):\n",
        "    if filename.endswith('.jpg') or filename.endswith('.png'):\n",
        "        # Read the image\n",
        "        image_path = os.path.join(folder_path, filename)\n",
        "        image = io.imread(image_path)\n",
        "\n",
        "        # Calculate the brown score\n",
        "        brown_score = calculate_brown_score(image)\n",
        "\n",
        "        # Calculate the blue score\n",
        "        blue_score = calculate_blue_score(image)\n",
        "\n",
        "        # Append the scores to the respective lists\n",
        "        brown_scores.append(brown_score)\n",
        "        blue_scores.append(blue_score)\n",
        "\n",
        "# Convert the lists to numpy arrays\n",
        "brown_scores = np.array(brown_scores)\n",
        "blue_scores = np.array(blue_scores)\n",
        "\n",
        "# Normalize the scores between 0 and 1\n",
        "brown_scores_normalized = (brown_scores - np.min(brown_scores)) / (np.max(brown_scores) - np.min(brown_scores))\n",
        "blue_scores_normalized = (blue_scores - np.min(blue_scores)) / (np.max(blue_scores) - np.min(blue_scores))\n",
        "\n",
        "# Plot histograms\n",
        "plt.figure(figsize=(10, 4))\n",
        "\n",
        "plt.subplot(1, 2, 1)\n",
        "plt.hist(brown_scores, bins=20, color='brown')\n",
        "plt.title('Brown Score-NON-LYMPHOCYTE-RGB')\n",
        "plt.xlabel('Score')\n",
        "plt.ylabel('Frequency')\n",
        "\n",
        "plt.subplot(1, 2, 2)\n",
        "plt.hist(blue_scores, bins=20, color='blue')\n",
        "plt.title('Blue Score-NON-LYMPHOCYTE-RGB')\n",
        "plt.xlabel('Score')\n",
        "plt.ylabel('Frequency')\n",
        "\n",
        "plt.tight_layout()\n",
        "plt.show()\n"
      ],
      "metadata": {
        "colab": {
          "base_uri": "https://localhost:8080/",
          "height": 407
        },
        "id": "6JrPD5UJuYdZ",
        "outputId": "da0595f8-c502-4eeb-efd6-8fba7c6e8c6f"
      },
      "execution_count": 62,
      "outputs": [
        {
          "output_type": "display_data",
          "data": {
            "text/plain": [
              "<Figure size 1000x400 with 2 Axes>"
            ],
            "image/png": "[encoded data removed]"
          },
          "metadata": {}
        }
      ]
    },
    {
      "cell_type": "code",
      "source": [
        "import numpy as np\n",
        "\n",
        "\n",
        "\n",
        "min_score = np.min(brown_scores)\n",
        "max_score = np.max(brown_scores)\n",
        "\n",
        "print(\"Minimum brown score:\", min_score)\n",
        "print(\"Maximum brown score:\", max_score)\n"
      ],
      "metadata": {
        "colab": {
          "base_uri": "https://localhost:8080/"
        },
        "id": "S85JvGkB-gOu",
        "outputId": "4ad9fbe4-3f05-47b2-bb52-ace861346ee1"
      },
      "execution_count": 63,
      "outputs": [
        {
          "output_type": "stream",
          "name": "stdout",
          "text": [
            "Minimum brown score: 68.68444444444444\n",
            "Maximum brown score: 170.8088888888889\n"
          ]
        }
      ]
    },
    {
      "cell_type": "code",
      "source": [
        "import numpy as np\n",
        "\n",
        "\n",
        "\n",
        "min_score = np.min(blue_scores)\n",
        "max_score = np.max(blue_scores)\n",
        "\n",
        "print(\"Minimum blue score:\", min_score)\n",
        "print(\"Maximum blue score:\", max_score)\n"
      ],
      "metadata": {
        "colab": {
          "base_uri": "https://localhost:8080/"
        },
        "id": "C-Ngm4YcAK0E",
        "outputId": "c236a290-0784-4762-a094-3c497ba1507b"
      },
      "execution_count": 64,
      "outputs": [
        {
          "output_type": "stream",
          "name": "stdout",
          "text": [
            "Minimum blue score: 98.71\n",
            "Maximum blue score: 197.2\n"
          ]
        }
      ]
    }
  ]
}